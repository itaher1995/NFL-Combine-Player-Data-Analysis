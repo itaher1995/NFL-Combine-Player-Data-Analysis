{
 "cells": [
  {
   "cell_type": "code",
   "execution_count": 26,
   "metadata": {
    "collapsed": false
   },
   "outputs": [
    {
     "name": "stdout",
     "output_type": "stream",
     "text": [
      "Done\n"
     ]
    }
   ],
   "source": [
    "import os\n",
    "import requests\n",
    "from bs4 import BeautifulSoup as BS\n",
    "from pprint import pprint\n",
    "\n",
    "def check_tag(tag, subtag, check):\n",
    "    try:\n",
    "        if check in tag[subtag]:\n",
    "            return True\n",
    "        return False\n",
    "    except KeyError:\n",
    "        return False\n",
    "        \n",
    "ap_poll = {}\n",
    "total_schools = {}\n",
    "school_appear = {}\n",
    "school_trans = {'Brigham Young': 'BYU',\n",
    "                'Southern Cal': 'Southern California',\n",
    "                'Southern Miss': 'Southern Mississippi',\n",
    "                'Miami-Florida': 'Miami',\n",
    "                'Nebraksa': 'Nebraska',\n",
    "                'Texas A&M': 'Texas A&M;',\n",
    "                'Louisiana St.': 'LSU',\n",
    "                'Miami-Ohio': 'Miami (OH)'}\n",
    "\n",
    "base_url = \"http://preseason.stassen.com/final-ap-poll/%s.html\"\n",
    "\n",
    "for y in range(2003, 2013):\n",
    "    comb_year = y+1\n",
    "    ap_poll[comb_year] = []\n",
    "    year = str(y)\n",
    "    year_url = base_url % year\n",
    "    response = requests.get(year_url)\n",
    "    html = response.text.encode('utf-8').__str__()\n",
    "    n = html.find(\"<html\")\n",
    "    year_soup = BS(html[n:], \"html.parser\")\n",
    "    table_list = year_soup.find_all('table')\n",
    "    for table in table_list:\n",
    "        trs = table.find_all('tr')\n",
    "        for tr in trs:\n",
    "            if check_tag(tr, 'align', 'CENTER'):\n",
    "                team = tr.contents[3].contents[0]\n",
    "                if '(' in team:\n",
    "                    start = team.find('(')\n",
    "                    team = team[:start - 1]\n",
    "                    if team in school_trans:\n",
    "                        team = school_trans[team]\n",
    "                if team != 'Team':\n",
    "                    if team in school_trans:\n",
    "                        team = school_trans[team]\n",
    "                    if team not in total_schools:\n",
    "                        total_schools[team] = 0\n",
    "                    if team not in school_appear:\n",
    "                        school_appear[team] = 0\n",
    "                    school_appear[team] += 10\n",
    "                    rank = tr.contents[1].contents[0]\n",
    "                    points = tr.contents[7].contents[0].replace(',','')\n",
    "                    ap_poll[comb_year].append([team, rank, points])\n",
    "\n",
    "outd = open('OUTPUT_DRAFT.csv').read().split('\\n')\n",
    "\n",
    "point = outd[0].find('POS')\n",
    "final_str = outd[0][:point] + 'AP Poll Points,' + outd[0][point:] + '\\n'\n",
    "\n",
    "for o in outd[1:-1]:\n",
    "    os = o.split(',')\n",
    "    school = os[2]\n",
    "    year = int(os[0])\n",
    "    ap_year = ap_poll[year]\n",
    "    found = False\n",
    "    for s in range(len(ap_year)):\n",
    "        ss = ap_year[s]\n",
    "        if school == ss[0]:\n",
    "            found = True\n",
    "            points = str(int(ss[2]) / 100)\n",
    "            total_schools[ss[0]] += 1\n",
    "    if not found:\n",
    "        try:\n",
    "            points = str(school_appear[school] / 100)\n",
    "        except KeyError:\n",
    "            points = '0'\n",
    "    new_list = os[:3] + [points] + os[3:]\n",
    "    for i in new_list:\n",
    "        final_str += i + ','\n",
    "    final_str += '\\n'\n",
    "\n",
    "outdp = open('OUTPUT_DRAFT2.csv','w')\n",
    "outdp.write(final_str)\n",
    "outdp.close()\n",
    "\n",
    "print('Done')"
   ]
  },
  {
   "cell_type": "code",
   "execution_count": null,
   "metadata": {
    "collapsed": true
   },
   "outputs": [],
   "source": []
  }
 ],
 "metadata": {
  "anaconda-cloud": {},
  "kernelspec": {
   "display_name": "Python 3",
   "language": "python",
   "name": "python3"
  },
  "language_info": {
   "codemirror_mode": {
    "name": "ipython",
    "version": 3
   },
   "file_extension": ".py",
   "mimetype": "text/x-python",
   "name": "python",
   "nbconvert_exporter": "python",
   "pygments_lexer": "ipython3",
   "version": "3.5.2"
  }
 },
 "nbformat": 4,
 "nbformat_minor": 0
}
