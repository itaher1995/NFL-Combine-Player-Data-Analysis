{
 "cells": [
  {
   "cell_type": "code",
   "execution_count": 5,
   "metadata": {
    "collapsed": false
   },
   "outputs": [
    {
     "name": "stdout",
     "output_type": "stream",
     "text": [
      "['DT','QB','OG','C','WR','RB','FB','CB','FS','TE','DE','SS','OLB','ILB','OT',]\n"
     ]
    }
   ],
   "source": [
    "import os\n",
    "import requests\n",
    "from bs4 import BeautifulSoup as BS\n",
    "from pprint import pprint\n",
    "\n",
    "def check_tag(tag, subtag, check):\n",
    "    try:\n",
    "        if check in tag[subtag]:\n",
    "            return True\n",
    "        return False\n",
    "    except KeyError:\n",
    "        return False\n",
    "    \n",
    "pos_trans = {'ILB': ['ILB','LB'],\n",
    "            'OLB': ['OLB','LB'],\n",
    "            'FS': ['S','DB'],\n",
    "            'SS': ['S','DB'],\n",
    "            'OT': ['OT', 'OL', 'T'],\n",
    "            'OG': ['OG', 'OL','G'],\n",
    "            'C': ['C', 'OL'],\n",
    "            'QB': ['QB'],\n",
    "            'RB': ['RB'],\n",
    "            'WR': ['WR'],\n",
    "            'TE': ['TE'],\n",
    "            'CB': ['CB', 'DB'],\n",
    "            'DE': ['DE'],\n",
    "            'DT': ['DT'],\n",
    "            'FB': ['FB']}\n",
    "\n",
    "s = '['\n",
    "for p in pos_trans:\n",
    "    s += '\\'' + p + '\\','\n",
    "s += ']'\n",
    "\n",
    "print(s)"
   ]
  },
  {
   "cell_type": "code",
   "execution_count": 2,
   "metadata": {
    "collapsed": false
   },
   "outputs": [
    {
     "name": "stdout",
     "output_type": "stream",
     "text": [
      "\n",
      "0 / 3124\n",
      "\n",
      "Oday Aboushi 8.0 5.666666666666667 0 0 3\n",
      "Robert Alford 13.5 10.5 13.0 13.0 4\n",
      "C.J. Anderson 10.5 4.75 7.0 7.0 4\n",
      "Ezekiel Ansah 14.0 13.5 10.0 10.0 4\n",
      "Marc Anthony 0 0 0 0 0\n",
      "Terron Armstead 10.0 9.0 7.0 7.0 4\n",
      "Tavon Austin 14.0 9.25 12.0 12.0 4\n",
      "Stedman Bailey 12.666666666666666 2.6666666666666665 0 0 3\n",
      "David Bakhtiari 14.75 14.75 13.0 13.0 4\n",
      "Montee Ball 10.5 1.5 0 0 2\n",
      "Johnthan Banks 16.275862068965516 10.206896551724139 22.4 0.0 3.625\n",
      "Chris Barker 0 0 0 0 0\n",
      "Kenjon Barner 10.333333333333334 0.0 0 0 3\n",
      "T.J. Barnes 0 0 0 0 0\n"
     ]
    },
    {
     "ename": "KeyboardInterrupt",
     "evalue": "",
     "output_type": "error",
     "traceback": [
      "\u001b[0;31m---------------------------------------------------------------------------\u001b[0m",
      "\u001b[0;31mKeyboardInterrupt\u001b[0m                         Traceback (most recent call last)",
      "\u001b[0;32m<ipython-input-2-5ab6c09c7767>\u001b[0m in \u001b[0;36m<module>\u001b[0;34m()\u001b[0m\n\u001b[1;32m     26\u001b[0m     \u001b[0mhtml\u001b[0m \u001b[0;34m=\u001b[0m \u001b[0mresponse\u001b[0m\u001b[0;34m.\u001b[0m\u001b[0mtext\u001b[0m\u001b[0;34m.\u001b[0m\u001b[0mencode\u001b[0m\u001b[0;34m(\u001b[0m\u001b[0;34m'utf-8'\u001b[0m\u001b[0;34m)\u001b[0m\u001b[0;34m.\u001b[0m\u001b[0m__str__\u001b[0m\u001b[0;34m(\u001b[0m\u001b[0;34m)\u001b[0m\u001b[0;34m\u001b[0m\u001b[0m\n\u001b[1;32m     27\u001b[0m     \u001b[0mn\u001b[0m \u001b[0;34m=\u001b[0m \u001b[0mhtml\u001b[0m\u001b[0;34m.\u001b[0m\u001b[0mfind\u001b[0m\u001b[0;34m(\u001b[0m\u001b[0;34m\"<html\"\u001b[0m\u001b[0;34m)\u001b[0m\u001b[0;34m\u001b[0m\u001b[0m\n\u001b[0;32m---> 28\u001b[0;31m     \u001b[0mplayer_soup\u001b[0m \u001b[0;34m=\u001b[0m \u001b[0mBS\u001b[0m\u001b[0;34m(\u001b[0m\u001b[0mhtml\u001b[0m\u001b[0;34m[\u001b[0m\u001b[0mn\u001b[0m\u001b[0;34m:\u001b[0m\u001b[0;34m]\u001b[0m\u001b[0;34m,\u001b[0m \u001b[0;34m\"html.parser\"\u001b[0m\u001b[0;34m)\u001b[0m\u001b[0;34m\u001b[0m\u001b[0m\n\u001b[0m\u001b[1;32m     29\u001b[0m     \u001b[0mtitle_list\u001b[0m \u001b[0;34m=\u001b[0m \u001b[0mplayer_soup\u001b[0m\u001b[0;34m.\u001b[0m\u001b[0mfind_all\u001b[0m\u001b[0;34m(\u001b[0m\u001b[0;34m'title'\u001b[0m\u001b[0;34m)\u001b[0m\u001b[0;34m\u001b[0m\u001b[0m\n\u001b[1;32m     30\u001b[0m \u001b[0;34m\u001b[0m\u001b[0m\n",
      "\u001b[0;32m/Users/michaelwayne/anaconda/lib/python3.5/site-packages/bs4/__init__.py\u001b[0m in \u001b[0;36m__init__\u001b[0;34m(self, markup, features, builder, parse_only, from_encoding, exclude_encodings, **kwargs)\u001b[0m\n\u001b[1;32m    226\u001b[0m             \u001b[0mself\u001b[0m\u001b[0;34m.\u001b[0m\u001b[0mreset\u001b[0m\u001b[0;34m(\u001b[0m\u001b[0;34m)\u001b[0m\u001b[0;34m\u001b[0m\u001b[0m\n\u001b[1;32m    227\u001b[0m             \u001b[0;32mtry\u001b[0m\u001b[0;34m:\u001b[0m\u001b[0;34m\u001b[0m\u001b[0m\n\u001b[0;32m--> 228\u001b[0;31m                 \u001b[0mself\u001b[0m\u001b[0;34m.\u001b[0m\u001b[0m_feed\u001b[0m\u001b[0;34m(\u001b[0m\u001b[0;34m)\u001b[0m\u001b[0;34m\u001b[0m\u001b[0m\n\u001b[0m\u001b[1;32m    229\u001b[0m                 \u001b[0;32mbreak\u001b[0m\u001b[0;34m\u001b[0m\u001b[0m\n\u001b[1;32m    230\u001b[0m             \u001b[0;32mexcept\u001b[0m \u001b[0mParserRejectedMarkup\u001b[0m\u001b[0;34m:\u001b[0m\u001b[0;34m\u001b[0m\u001b[0m\n",
      "\u001b[0;32m/Users/michaelwayne/anaconda/lib/python3.5/site-packages/bs4/__init__.py\u001b[0m in \u001b[0;36m_feed\u001b[0;34m(self)\u001b[0m\n\u001b[1;32m    287\u001b[0m         \u001b[0mself\u001b[0m\u001b[0;34m.\u001b[0m\u001b[0mbuilder\u001b[0m\u001b[0;34m.\u001b[0m\u001b[0mreset\u001b[0m\u001b[0;34m(\u001b[0m\u001b[0;34m)\u001b[0m\u001b[0;34m\u001b[0m\u001b[0m\n\u001b[1;32m    288\u001b[0m \u001b[0;34m\u001b[0m\u001b[0m\n\u001b[0;32m--> 289\u001b[0;31m         \u001b[0mself\u001b[0m\u001b[0;34m.\u001b[0m\u001b[0mbuilder\u001b[0m\u001b[0;34m.\u001b[0m\u001b[0mfeed\u001b[0m\u001b[0;34m(\u001b[0m\u001b[0mself\u001b[0m\u001b[0;34m.\u001b[0m\u001b[0mmarkup\u001b[0m\u001b[0;34m)\u001b[0m\u001b[0;34m\u001b[0m\u001b[0m\n\u001b[0m\u001b[1;32m    290\u001b[0m         \u001b[0;31m# Close out any unfinished strings and close all the open tags.\u001b[0m\u001b[0;34m\u001b[0m\u001b[0;34m\u001b[0m\u001b[0m\n\u001b[1;32m    291\u001b[0m         \u001b[0mself\u001b[0m\u001b[0;34m.\u001b[0m\u001b[0mendData\u001b[0m\u001b[0;34m(\u001b[0m\u001b[0;34m)\u001b[0m\u001b[0;34m\u001b[0m\u001b[0m\n",
      "\u001b[0;32m/Users/michaelwayne/anaconda/lib/python3.5/site-packages/bs4/builder/_htmlparser.py\u001b[0m in \u001b[0;36mfeed\u001b[0;34m(self, markup)\u001b[0m\n\u001b[1;32m    165\u001b[0m         \u001b[0mparser\u001b[0m\u001b[0;34m.\u001b[0m\u001b[0msoup\u001b[0m \u001b[0;34m=\u001b[0m \u001b[0mself\u001b[0m\u001b[0;34m.\u001b[0m\u001b[0msoup\u001b[0m\u001b[0;34m\u001b[0m\u001b[0m\n\u001b[1;32m    166\u001b[0m         \u001b[0;32mtry\u001b[0m\u001b[0;34m:\u001b[0m\u001b[0;34m\u001b[0m\u001b[0m\n\u001b[0;32m--> 167\u001b[0;31m             \u001b[0mparser\u001b[0m\u001b[0;34m.\u001b[0m\u001b[0mfeed\u001b[0m\u001b[0;34m(\u001b[0m\u001b[0mmarkup\u001b[0m\u001b[0;34m)\u001b[0m\u001b[0;34m\u001b[0m\u001b[0m\n\u001b[0m\u001b[1;32m    168\u001b[0m         \u001b[0;32mexcept\u001b[0m \u001b[0mHTMLParseError\u001b[0m \u001b[0;32mas\u001b[0m \u001b[0me\u001b[0m\u001b[0;34m:\u001b[0m\u001b[0;34m\u001b[0m\u001b[0m\n\u001b[1;32m    169\u001b[0m             warnings.warn(RuntimeWarning(\n",
      "\u001b[0;32m/Users/michaelwayne/anaconda/lib/python3.5/html/parser.py\u001b[0m in \u001b[0;36mfeed\u001b[0;34m(self, data)\u001b[0m\n\u001b[1;32m    109\u001b[0m         \"\"\"\n\u001b[1;32m    110\u001b[0m         \u001b[0mself\u001b[0m\u001b[0;34m.\u001b[0m\u001b[0mrawdata\u001b[0m \u001b[0;34m=\u001b[0m \u001b[0mself\u001b[0m\u001b[0;34m.\u001b[0m\u001b[0mrawdata\u001b[0m \u001b[0;34m+\u001b[0m \u001b[0mdata\u001b[0m\u001b[0;34m\u001b[0m\u001b[0m\n\u001b[0;32m--> 111\u001b[0;31m         \u001b[0mself\u001b[0m\u001b[0;34m.\u001b[0m\u001b[0mgoahead\u001b[0m\u001b[0;34m(\u001b[0m\u001b[0;36m0\u001b[0m\u001b[0;34m)\u001b[0m\u001b[0;34m\u001b[0m\u001b[0m\n\u001b[0m\u001b[1;32m    112\u001b[0m \u001b[0;34m\u001b[0m\u001b[0m\n\u001b[1;32m    113\u001b[0m     \u001b[0;32mdef\u001b[0m \u001b[0mclose\u001b[0m\u001b[0;34m(\u001b[0m\u001b[0mself\u001b[0m\u001b[0;34m)\u001b[0m\u001b[0;34m:\u001b[0m\u001b[0;34m\u001b[0m\u001b[0m\n",
      "\u001b[0;32m/Users/michaelwayne/anaconda/lib/python3.5/html/parser.py\u001b[0m in \u001b[0;36mgoahead\u001b[0;34m(self, end)\u001b[0m\n\u001b[1;32m    169\u001b[0m             \u001b[0;32mif\u001b[0m \u001b[0mstartswith\u001b[0m\u001b[0;34m(\u001b[0m\u001b[0;34m'<'\u001b[0m\u001b[0;34m,\u001b[0m \u001b[0mi\u001b[0m\u001b[0;34m)\u001b[0m\u001b[0;34m:\u001b[0m\u001b[0;34m\u001b[0m\u001b[0m\n\u001b[1;32m    170\u001b[0m                 \u001b[0;32mif\u001b[0m \u001b[0mstarttagopen\u001b[0m\u001b[0;34m.\u001b[0m\u001b[0mmatch\u001b[0m\u001b[0;34m(\u001b[0m\u001b[0mrawdata\u001b[0m\u001b[0;34m,\u001b[0m \u001b[0mi\u001b[0m\u001b[0;34m)\u001b[0m\u001b[0;34m:\u001b[0m \u001b[0;31m# < + letter\u001b[0m\u001b[0;34m\u001b[0m\u001b[0m\n\u001b[0;32m--> 171\u001b[0;31m                     \u001b[0mk\u001b[0m \u001b[0;34m=\u001b[0m \u001b[0mself\u001b[0m\u001b[0;34m.\u001b[0m\u001b[0mparse_starttag\u001b[0m\u001b[0;34m(\u001b[0m\u001b[0mi\u001b[0m\u001b[0;34m)\u001b[0m\u001b[0;34m\u001b[0m\u001b[0m\n\u001b[0m\u001b[1;32m    172\u001b[0m                 \u001b[0;32melif\u001b[0m \u001b[0mstartswith\u001b[0m\u001b[0;34m(\u001b[0m\u001b[0;34m\"</\"\u001b[0m\u001b[0;34m,\u001b[0m \u001b[0mi\u001b[0m\u001b[0;34m)\u001b[0m\u001b[0;34m:\u001b[0m\u001b[0;34m\u001b[0m\u001b[0m\n\u001b[1;32m    173\u001b[0m                     \u001b[0mk\u001b[0m \u001b[0;34m=\u001b[0m \u001b[0mself\u001b[0m\u001b[0;34m.\u001b[0m\u001b[0mparse_endtag\u001b[0m\u001b[0;34m(\u001b[0m\u001b[0mi\u001b[0m\u001b[0;34m)\u001b[0m\u001b[0;34m\u001b[0m\u001b[0m\n",
      "\u001b[0;32m/Users/michaelwayne/anaconda/lib/python3.5/html/parser.py\u001b[0m in \u001b[0;36mparse_starttag\u001b[0;34m(self, i)\u001b[0m\n\u001b[1;32m    314\u001b[0m         \u001b[0mself\u001b[0m\u001b[0;34m.\u001b[0m\u001b[0mlasttag\u001b[0m \u001b[0;34m=\u001b[0m \u001b[0mtag\u001b[0m \u001b[0;34m=\u001b[0m \u001b[0mmatch\u001b[0m\u001b[0;34m.\u001b[0m\u001b[0mgroup\u001b[0m\u001b[0;34m(\u001b[0m\u001b[0;36m1\u001b[0m\u001b[0;34m)\u001b[0m\u001b[0;34m.\u001b[0m\u001b[0mlower\u001b[0m\u001b[0;34m(\u001b[0m\u001b[0;34m)\u001b[0m\u001b[0;34m\u001b[0m\u001b[0m\n\u001b[1;32m    315\u001b[0m         \u001b[0;32mwhile\u001b[0m \u001b[0mk\u001b[0m \u001b[0;34m<\u001b[0m \u001b[0mendpos\u001b[0m\u001b[0;34m:\u001b[0m\u001b[0;34m\u001b[0m\u001b[0m\n\u001b[0;32m--> 316\u001b[0;31m             \u001b[0mm\u001b[0m \u001b[0;34m=\u001b[0m \u001b[0mattrfind_tolerant\u001b[0m\u001b[0;34m.\u001b[0m\u001b[0mmatch\u001b[0m\u001b[0;34m(\u001b[0m\u001b[0mrawdata\u001b[0m\u001b[0;34m,\u001b[0m \u001b[0mk\u001b[0m\u001b[0;34m)\u001b[0m\u001b[0;34m\u001b[0m\u001b[0m\n\u001b[0m\u001b[1;32m    317\u001b[0m             \u001b[0;32mif\u001b[0m \u001b[0;32mnot\u001b[0m \u001b[0mm\u001b[0m\u001b[0;34m:\u001b[0m\u001b[0;34m\u001b[0m\u001b[0m\n\u001b[1;32m    318\u001b[0m                 \u001b[0;32mbreak\u001b[0m\u001b[0;34m\u001b[0m\u001b[0m\n",
      "\u001b[0;31mKeyboardInterrupt\u001b[0m: "
     ]
    }
   ],
   "source": [
    "CDo = open('COMBINE_DATA.csv')\n",
    "full = [cd.split(',') for cd in CDo.read().split('\\n')]\n",
    "headers = full[0]\n",
    "CD = full[1:-1]\n",
    "\n",
    "base_url = \"http://www.pro-football-reference.com/search/search.fcgi?hint=%s+%s&search=%s+%s&pid=\"\n",
    "pf_url = \"http://www.pro-football-reference.com\"\n",
    "url_dict = {}\n",
    "\n",
    "final_str = ''\n",
    "for header in headers:\n",
    "    final_str += header + ','\n",
    "final_str += 'G,GS,G3,GS3\\n'\n",
    "\n",
    "for player in range(len(CD)):\n",
    "    if player % 100 == 0:\n",
    "        print('\\n%s / 3124\\n' % str(player))\n",
    "    name = CD[player][1].replace('\\\\','')\n",
    "    CD[player][1] = name\n",
    "    ns = name.split(' ')\n",
    "    if len(ns) != 2:\n",
    "        ns = [ns[0], '%s+%s' % (ns[1],ns[2])]\n",
    "        \n",
    "    player_url = base_url % (ns[0], ns[1], ns[0], ns[1])\n",
    "    response = requests.get(player_url)\n",
    "    html = response.text.encode('utf-8').__str__()\n",
    "    n = html.find(\"<html\")\n",
    "    player_soup = BS(html[n:], \"html.parser\")\n",
    "    title_list = player_soup.find_all('title')\n",
    "    \n",
    "    player_page = 1\n",
    "    if 'Search Results' in title_list[0].contents[0]:\n",
    "        player_page = 0\n",
    "        \n",
    "    if not player_page:\n",
    "        div_list = player_soup.find_all('div')\n",
    "        for div in div_list:\n",
    "            if check_tag(div, 'id', 'players'):\n",
    "                div_list2 = div.find_all('div')\n",
    "                if div_list2:\n",
    "                    for div2 in div_list2:\n",
    "                        try:\n",
    "                            pos = div2.div.contents[2].split(' ')[2]\n",
    "                            year = div2.div.contents[2].split(' ')[3][1:5]\n",
    "                            if pos in pos_trans[CD[player][3]]:\n",
    "                                if year == CD[player][0]:\n",
    "                                    player_url = pf_url + div2.div.a['href']\n",
    "                                    response = requests.get(player_url)\n",
    "                                    html = response.text.encode('utf-8').__str__()\n",
    "                                    n = html.find(\"<html\")\n",
    "                                    player_soup = BS(html[n:], \"html.parser\")\n",
    "                                    title_list = player_soup.find_all('title')\n",
    "                                    break\n",
    "                        except AttributeError:\n",
    "                            pass\n",
    "                    break\n",
    "    \n",
    "    resl = [0,0,0,0,0]\n",
    "    \n",
    "    if 'Search Results' not in title_list[0].contents[0]:\n",
    "        table_list = player_soup.find_all('table')\n",
    "        for table in table_list:\n",
    "            if check_tag(table, 'class', 'row_summable') and check_tag(table, 'class', 'sortable'):\n",
    "                th_list = table.thead.find_all('th')\n",
    "                year = False\n",
    "                for th in th_list:\n",
    "                    if check_tag(th, 'aria-label', 'Year'):\n",
    "                        year = True\n",
    "                        break\n",
    "                if year:\n",
    "                    tr_list = table.tbody.find_all('tr')\n",
    "                    for tr in tr_list:\n",
    "                        td_list = tr.find_all('td')\n",
    "                        if len(tr.th.contents) > 0:\n",
    "                            if tr.th.contents[0] == '2016':\n",
    "                                resl[4] += (10/16)\n",
    "                            else:\n",
    "                                resl[4] += 1\n",
    "                        for td in td_list:\n",
    "                            if check_tag(td, 'data-stat', 'gs'):\n",
    "                                if len(td.contents) > 0:\n",
    "                                    gs = int(td.contents[0])\n",
    "                                    resl[1] += gs\n",
    "                                    if resl[4] > 3:\n",
    "                                        resl[3] += gs\n",
    "                            elif td['data-stat'][0] == 'g':\n",
    "                                if len(td.contents) > 0:\n",
    "                                    g = int(td.contents[0])\n",
    "                                    resl[0] += g\n",
    "                                    if resl[4] > 3:\n",
    "                                        resl[2] += g\n",
    "    \n",
    "    res0, res1, res2, res3 = 0, 0, 0, 0\n",
    "    if resl[4] > 0:\n",
    "        res0 = resl[0]/resl[4]\n",
    "        res1 = resl[1]/resl[4]\n",
    "        if resl[4] > 3:\n",
    "            res2 = resl[2]/(resl[4] - 3)\n",
    "            res3 = resl[3]/(resl[4] - 3)\n",
    "    print(name, res0, res1, res2, res3, resl[4])\n",
    "    CD[player].append(str(res0))\n",
    "    CD[player].append(str(res1))\n",
    "    CD[player].append(str(res2))\n",
    "    CD[player].append(str(res3))\n",
    "    for p in CD[player]:\n",
    "        final_str += p + ','\n",
    "    final_str += '\\n'\n",
    "\n",
    "print('DONE')"
   ]
  },
  {
   "cell_type": "code",
   "execution_count": 72,
   "metadata": {
    "collapsed": false
   },
   "outputs": [
    {
     "name": "stdout",
     "output_type": "stream",
     "text": [
      "/players/P/PeteAd00.htm\n",
      "/players/P/PeteAd01.htm\n"
     ]
    }
   ],
   "source": [
    "o = open('OUTPUT.csv', 'w')\n",
    "o.write(final_str)\n",
    "o.close()"
   ]
  },
  {
   "cell_type": "code",
   "execution_count": null,
   "metadata": {
    "collapsed": true
   },
   "outputs": [],
   "source": []
  }
 ],
 "metadata": {
  "anaconda-cloud": {},
  "kernelspec": {
   "display_name": "Python 3",
   "language": "python",
   "name": "python3"
  },
  "language_info": {
   "codemirror_mode": {
    "name": "ipython",
    "version": 3
   },
   "file_extension": ".py",
   "mimetype": "text/x-python",
   "name": "python",
   "nbconvert_exporter": "python",
   "pygments_lexer": "ipython3",
   "version": "3.5.2"
  }
 },
 "nbformat": 4,
 "nbformat_minor": 0
}
