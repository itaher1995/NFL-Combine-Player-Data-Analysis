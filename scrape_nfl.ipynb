{
 "cells": [
  {
   "cell_type": "code",
   "execution_count": 11,
   "metadata": {
    "collapsed": false
   },
   "outputs": [
    {
     "name": "stdout",
     "output_type": "stream",
     "text": [
      "Done\n"
     ]
    }
   ],
   "source": [
    "import os\n",
    "import requests\n",
    "from bs4 import BeautifulSoup as BS\n",
    "from pprint import pprint\n",
    "\n",
    "headers = [\"Year\", \"Name\", \"College\", \"POS\", \"Height\", \"Weight\", \"Hand Size\", \"Arm Length\", \"Wonderlic\", \"Yard\", \n",
    "           \"Bench Press\", \"Vert Leap\", \"Broad Jump\", \"Shuttle\", \"3 Cone\", \"60Yd Shuttle\"]\n",
    "data_out = []\n",
    "\n",
    "url = \"http://nflcombineresults.com/nflcombinedata_expanded.php?year=all&pos=&college=\"\n",
    "\n",
    "response = requests.get(url)\n",
    "html = response.text.encode('utf-8').__str__()\n",
    "n = html.find(\"<head\")\n",
    "\n",
    "pos_soup = BS(html[n:], \"html.parser\")\n",
    "    \n",
    "tr_list = pos_soup.find_all('tr')\n",
    "\n",
    "for tr in tr_list:\n",
    "    try:\n",
    "        if 'tablefont' in tr['class'][0]:\n",
    "            count = 0\n",
    "            player_res = []\n",
    "            td_list = tr.find_all('td')\n",
    "            for td in td_list:\n",
    "                if count == 1:\n",
    "                    player_res.append(td.div.a.contents[0])\n",
    "                    count += 1\n",
    "                else:\n",
    "                    if len(td.div.contents) > 0:\n",
    "                        player_res.append(td.div.contents[0])\n",
    "                        count += 1\n",
    "                    else:\n",
    "                        player_res.append('')\n",
    "                        count += 1\n",
    "            data_out.append(player_res)\n",
    "    except KeyError:\n",
    "        pass\n",
    "        \n",
    "data_str = ''\n",
    "for header in headers:\n",
    "    data_str += header + ','\n",
    "data_str += '\\n'\n",
    "\n",
    "for data in data_out:\n",
    "    for d in data:\n",
    "        data_str += d + ','\n",
    "    data_str += '\\n'\n",
    "    \n",
    "out = open('combine_output.csv', 'w')\n",
    "out.write(data_str)\n",
    "out.close()\n",
    "print('Done')"
   ]
  },
  {
   "cell_type": "code",
   "execution_count": null,
   "metadata": {
    "collapsed": true
   },
   "outputs": [],
   "source": []
  }
 ],
 "metadata": {
  "anaconda-cloud": {},
  "kernelspec": {
   "display_name": "Python 3",
   "language": "python",
   "name": "python3"
  },
  "language_info": {
   "codemirror_mode": {
    "name": "ipython",
    "version": 3
   },
   "file_extension": ".py",
   "mimetype": "text/x-python",
   "name": "python",
   "nbconvert_exporter": "python",
   "pygments_lexer": "ipython3",
   "version": "3.5.2"
  }
 },
 "nbformat": 4,
 "nbformat_minor": 0
}
